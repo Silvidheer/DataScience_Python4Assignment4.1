{
 "cells": [
  {
   "cell_type": "code",
   "execution_count": 20,
   "metadata": {},
   "outputs": [
    {
     "name": "stdout",
     "output_type": "stream",
     "text": [
      "Enter length of side a:20\n",
      "Enter length of side b:30\n",
      "Enter length of side c:40\n",
      "Area of the triangle is 290.47\n"
     ]
    }
   ],
   "source": [
    "# Problem Statement 1:\n",
    "# Python Program(with class concepts) to find the area of the triangle using the below formula.\n",
    "# area = (s*(s-a)*(s-b)*(s-c)) ** 0.5\n",
    "# Function to take the length of the sides of triangle from user should be defined in the parent\n",
    "# class and function to calculate the area should be defined in subclass.\n",
    "\n",
    "class Triangle:\n",
    "     def __init__(self):\n",
    "            self.side_a = (float)(input(\"Enter length of side a:\"))\n",
    "            self.side_b = (float)(input(\"Enter length of side b:\"))\n",
    "            self.side_c = (float)(input(\"Enter length of side c:\"))\n",
    "\n",
    "class AreaofTriangle(Triangle):\n",
    "     def __init__(self):\n",
    "            Triangle.__init__(self)\n",
    "    \n",
    "     def findArea(self):\n",
    "            side_a = self.side_a\n",
    "            side_b = self.side_b\n",
    "            side_c = self.side_c\n",
    "            s = (self.side_a + self.side_b + self.side_c)/2\n",
    "            area = (s*(s-self.side_a)*(s-self.side_b)*(s-self.side_c)) ** 0.5\n",
    "            print(\"Area of the triangle is %0.2f\" %area)\n",
    "\n",
    "areaofTriangle = AreaofTriangle()\n",
    "areaofTriangle.findArea()\n",
    "\n",
    "        \n"
   ]
  },
  {
   "cell_type": "code",
   "execution_count": 9,
   "metadata": {},
   "outputs": [
    {
     "name": "stdout",
     "output_type": "stream",
     "text": [
      "['data science', 'hadoop', 'python']\n"
     ]
    }
   ],
   "source": [
    "#Problem Statement 2:\n",
    "# function filter_long_words() that takes a list of words and an integer n and returns the list\n",
    "# of words that are longer than n.\n",
    "wordlist = [\"unix\",\"c\",\"data science\",\"hadoop\",\"java\",\"python\"]\n",
    "longerList = []\n",
    "def longlist(wordlist,n):\n",
    "    for word in wordlist :\n",
    "        if(len(word) > n):\n",
    "            longerList.append(word)\n",
    "    return longerList\n",
    "print(longlist(wordlist, 5))\n"
   ]
  },
  {
   "cell_type": "code",
   "execution_count": null,
   "metadata": {
    "collapsed": true
   },
   "outputs": [],
   "source": []
  }
 ],
 "metadata": {
  "kernelspec": {
   "display_name": "Python 3",
   "language": "python",
   "name": "python3"
  },
  "language_info": {
   "codemirror_mode": {
    "name": "ipython",
    "version": 3
   },
   "file_extension": ".py",
   "mimetype": "text/x-python",
   "name": "python",
   "nbconvert_exporter": "python",
   "pygments_lexer": "ipython3",
   "version": "3.6.3"
  }
 },
 "nbformat": 4,
 "nbformat_minor": 2
}
